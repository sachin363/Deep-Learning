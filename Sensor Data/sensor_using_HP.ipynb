{
  "nbformat": 4,
  "nbformat_minor": 0,
  "metadata": {
    "colab": {
      "name": "sensor using HP",
      "provenance": [],
      "collapsed_sections": []
    },
    "kernelspec": {
      "name": "python3",
      "display_name": "Python 3"
    },
    "accelerator": "GPU"
  },
  "cells": [
    {
      "cell_type": "code",
      "metadata": {
        "id": "2_ue4jl2o1qJ",
        "colab_type": "code",
        "colab": {
          "base_uri": "https://localhost:8080/",
          "height": 532
        },
        "outputId": "38a97c6f-96ea-40d0-9169-cfddaac90f3b"
      },
      "source": [
        "!pip install keras-tuner"
      ],
      "execution_count": 1,
      "outputs": [
        {
          "output_type": "stream",
          "text": [
            "Collecting keras-tuner\n",
            "\u001b[?25l  Downloading https://files.pythonhosted.org/packages/a7/f7/4b41b6832abf4c9bef71a664dc563adb25afc5812831667c6db572b1a261/keras-tuner-1.0.1.tar.gz (54kB)\n",
            "\r\u001b[K     |██████                          | 10kB 25.0MB/s eta 0:00:01\r\u001b[K     |████████████                    | 20kB 2.7MB/s eta 0:00:01\r\u001b[K     |██████████████████              | 30kB 3.7MB/s eta 0:00:01\r\u001b[K     |████████████████████████        | 40kB 4.1MB/s eta 0:00:01\r\u001b[K     |██████████████████████████████  | 51kB 3.3MB/s eta 0:00:01\r\u001b[K     |████████████████████████████████| 61kB 3.0MB/s \n",
            "\u001b[?25hRequirement already satisfied: future in /usr/local/lib/python3.6/dist-packages (from keras-tuner) (0.16.0)\n",
            "Requirement already satisfied: numpy in /usr/local/lib/python3.6/dist-packages (from keras-tuner) (1.18.5)\n",
            "Requirement already satisfied: tabulate in /usr/local/lib/python3.6/dist-packages (from keras-tuner) (0.8.7)\n",
            "Collecting terminaltables\n",
            "  Downloading https://files.pythonhosted.org/packages/9b/c4/4a21174f32f8a7e1104798c445dacdc1d4df86f2f26722767034e4de4bff/terminaltables-3.1.0.tar.gz\n",
            "Collecting colorama\n",
            "  Downloading https://files.pythonhosted.org/packages/c9/dc/45cdef1b4d119eb96316b3117e6d5708a08029992b2fee2c143c7a0a5cc5/colorama-0.4.3-py2.py3-none-any.whl\n",
            "Requirement already satisfied: tqdm in /usr/local/lib/python3.6/dist-packages (from keras-tuner) (4.41.1)\n",
            "Requirement already satisfied: requests in /usr/local/lib/python3.6/dist-packages (from keras-tuner) (2.23.0)\n",
            "Requirement already satisfied: scipy in /usr/local/lib/python3.6/dist-packages (from keras-tuner) (1.4.1)\n",
            "Requirement already satisfied: scikit-learn in /usr/local/lib/python3.6/dist-packages (from keras-tuner) (0.22.2.post1)\n",
            "Requirement already satisfied: certifi>=2017.4.17 in /usr/local/lib/python3.6/dist-packages (from requests->keras-tuner) (2020.6.20)\n",
            "Requirement already satisfied: idna<3,>=2.5 in /usr/local/lib/python3.6/dist-packages (from requests->keras-tuner) (2.10)\n",
            "Requirement already satisfied: chardet<4,>=3.0.2 in /usr/local/lib/python3.6/dist-packages (from requests->keras-tuner) (3.0.4)\n",
            "Requirement already satisfied: urllib3!=1.25.0,!=1.25.1,<1.26,>=1.21.1 in /usr/local/lib/python3.6/dist-packages (from requests->keras-tuner) (1.24.3)\n",
            "Requirement already satisfied: joblib>=0.11 in /usr/local/lib/python3.6/dist-packages (from scikit-learn->keras-tuner) (0.16.0)\n",
            "Building wheels for collected packages: keras-tuner, terminaltables\n",
            "  Building wheel for keras-tuner (setup.py) ... \u001b[?25l\u001b[?25hdone\n",
            "  Created wheel for keras-tuner: filename=keras_tuner-1.0.1-cp36-none-any.whl size=73200 sha256=e47ac1ed14925ba1a715059eebe321e1a89fa50b512d2d260f2f39510ec07e17\n",
            "  Stored in directory: /root/.cache/pip/wheels/b9/cc/62/52716b70dd90f3db12519233c3a93a5360bc672da1a10ded43\n",
            "  Building wheel for terminaltables (setup.py) ... \u001b[?25l\u001b[?25hdone\n",
            "  Created wheel for terminaltables: filename=terminaltables-3.1.0-cp36-none-any.whl size=15356 sha256=1c2ce7badc586c1a81833dd073a3c7a61c55fbef49bb1a5d3e05cb4b290caf57\n",
            "  Stored in directory: /root/.cache/pip/wheels/30/6b/50/6c75775b681fb36cdfac7f19799888ef9d8813aff9e379663e\n",
            "Successfully built keras-tuner terminaltables\n",
            "Installing collected packages: terminaltables, colorama, keras-tuner\n",
            "Successfully installed colorama-0.4.3 keras-tuner-1.0.1 terminaltables-3.1.0\n"
          ],
          "name": "stdout"
        }
      ]
    },
    {
      "cell_type": "code",
      "metadata": {
        "id": "AwrnVQz3Sv96",
        "colab_type": "code",
        "colab": {}
      },
      "source": [
        "import tensorflow as tf\n",
        "import pandas as pd\n",
        "import numpy as np\n",
        "from tensorflow.keras.models import Sequential\n",
        "from tensorflow.keras.layers import Dense,BatchNormalization,Dropout\n",
        "from sklearn.model_selection import train_test_split\n",
        "from kerastuner import RandomSearch"
      ],
      "execution_count": 2,
      "outputs": []
    },
    {
      "cell_type": "code",
      "metadata": {
        "id": "DtgA2Fp0PfYA",
        "colab_type": "code",
        "colab": {
          "resources": {
            "http://localhost:8080/nbextensions/google.colab/files.js": {
              "data": "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",
              "ok": true,
              "headers": [
                [
                  "content-type",
                  "application/javascript"
                ]
              ],
              "status": 200,
              "status_text": ""
            }
          },
          "base_uri": "https://localhost:8080/",
          "height": 73
        },
        "outputId": "84e87104-3765-4a8d-f773-53bab131ef5d"
      },
      "source": [
        "from google.colab import files\n",
        "uploded=files.upload()"
      ],
      "execution_count": 6,
      "outputs": [
        {
          "output_type": "display_data",
          "data": {
            "text/html": [
              "\n",
              "     <input type=\"file\" id=\"files-fb2d13a7-e49e-4f71-bac0-9fa607500944\" name=\"files[]\" multiple disabled\n",
              "        style=\"border:none\" />\n",
              "     <output id=\"result-fb2d13a7-e49e-4f71-bac0-9fa607500944\">\n",
              "      Upload widget is only available when the cell has been executed in the\n",
              "      current browser session. Please rerun this cell to enable.\n",
              "      </output>\n",
              "      <script src=\"/nbextensions/google.colab/files.js\"></script> "
            ],
            "text/plain": [
              "<IPython.core.display.HTML object>"
            ]
          },
          "metadata": {
            "tags": []
          }
        },
        {
          "output_type": "stream",
          "text": [
            "Saving sensor_readings_24.csv to sensor_readings_24.csv\n"
          ],
          "name": "stdout"
        }
      ]
    },
    {
      "cell_type": "code",
      "metadata": {
        "id": "qCZ4-xj5qgdK",
        "colab_type": "code",
        "colab": {}
      },
      "source": [
        "data =pd.read_csv('sensor_readings_24.csv')"
      ],
      "execution_count": 13,
      "outputs": []
    },
    {
      "cell_type": "code",
      "metadata": {
        "id": "1kBt6lEgrHfH",
        "colab_type": "code",
        "colab": {
          "base_uri": "https://localhost:8080/",
          "height": 417
        },
        "outputId": "8aba6ac8-2f2a-414e-a944-b0c2aa90b3de"
      },
      "source": [
        "data.head()"
      ],
      "execution_count": 14,
      "outputs": [
        {
          "output_type": "execute_result",
          "data": {
            "text/html": [
              "<div>\n",
              "<style scoped>\n",
              "    .dataframe tbody tr th:only-of-type {\n",
              "        vertical-align: middle;\n",
              "    }\n",
              "\n",
              "    .dataframe tbody tr th {\n",
              "        vertical-align: top;\n",
              "    }\n",
              "\n",
              "    .dataframe thead th {\n",
              "        text-align: right;\n",
              "    }\n",
              "</style>\n",
              "<table border=\"1\" class=\"dataframe\">\n",
              "  <thead>\n",
              "    <tr style=\"text-align: right;\">\n",
              "      <th></th>\n",
              "      <th>0.438</th>\n",
              "      <th>0.498</th>\n",
              "      <th>3.625</th>\n",
              "      <th>3.645</th>\n",
              "      <th>5.000</th>\n",
              "      <th>2.918</th>\n",
              "      <th>5.000.1</th>\n",
              "      <th>2.351</th>\n",
              "      <th>2.332</th>\n",
              "      <th>2.643</th>\n",
              "      <th>1.698</th>\n",
              "      <th>1.687</th>\n",
              "      <th>1.698.1</th>\n",
              "      <th>1.717</th>\n",
              "      <th>1.744</th>\n",
              "      <th>0.593</th>\n",
              "      <th>0.502</th>\n",
              "      <th>0.493</th>\n",
              "      <th>0.504</th>\n",
              "      <th>0.445</th>\n",
              "      <th>0.431</th>\n",
              "      <th>0.444</th>\n",
              "      <th>0.440</th>\n",
              "      <th>0.429</th>\n",
              "      <th>Slight-Right-Turn</th>\n",
              "    </tr>\n",
              "  </thead>\n",
              "  <tbody>\n",
              "    <tr>\n",
              "      <th>0</th>\n",
              "      <td>0.438</td>\n",
              "      <td>0.498</td>\n",
              "      <td>3.625</td>\n",
              "      <td>3.648</td>\n",
              "      <td>5.0</td>\n",
              "      <td>2.918</td>\n",
              "      <td>5.0</td>\n",
              "      <td>2.637</td>\n",
              "      <td>2.332</td>\n",
              "      <td>2.649</td>\n",
              "      <td>1.695</td>\n",
              "      <td>1.687</td>\n",
              "      <td>1.695</td>\n",
              "      <td>1.720</td>\n",
              "      <td>1.744</td>\n",
              "      <td>0.592</td>\n",
              "      <td>0.502</td>\n",
              "      <td>0.493</td>\n",
              "      <td>0.504</td>\n",
              "      <td>0.449</td>\n",
              "      <td>0.431</td>\n",
              "      <td>0.444</td>\n",
              "      <td>0.443</td>\n",
              "      <td>0.429</td>\n",
              "      <td>Slight-Right-Turn</td>\n",
              "    </tr>\n",
              "    <tr>\n",
              "      <th>1</th>\n",
              "      <td>0.438</td>\n",
              "      <td>0.498</td>\n",
              "      <td>3.625</td>\n",
              "      <td>3.629</td>\n",
              "      <td>5.0</td>\n",
              "      <td>2.918</td>\n",
              "      <td>5.0</td>\n",
              "      <td>2.637</td>\n",
              "      <td>2.334</td>\n",
              "      <td>2.643</td>\n",
              "      <td>1.696</td>\n",
              "      <td>1.687</td>\n",
              "      <td>1.695</td>\n",
              "      <td>1.717</td>\n",
              "      <td>1.744</td>\n",
              "      <td>0.593</td>\n",
              "      <td>0.502</td>\n",
              "      <td>0.493</td>\n",
              "      <td>0.504</td>\n",
              "      <td>0.449</td>\n",
              "      <td>0.431</td>\n",
              "      <td>0.444</td>\n",
              "      <td>0.446</td>\n",
              "      <td>0.429</td>\n",
              "      <td>Slight-Right-Turn</td>\n",
              "    </tr>\n",
              "    <tr>\n",
              "      <th>2</th>\n",
              "      <td>0.437</td>\n",
              "      <td>0.501</td>\n",
              "      <td>3.625</td>\n",
              "      <td>3.626</td>\n",
              "      <td>5.0</td>\n",
              "      <td>2.918</td>\n",
              "      <td>5.0</td>\n",
              "      <td>2.353</td>\n",
              "      <td>2.334</td>\n",
              "      <td>2.642</td>\n",
              "      <td>1.730</td>\n",
              "      <td>1.687</td>\n",
              "      <td>1.695</td>\n",
              "      <td>1.717</td>\n",
              "      <td>1.744</td>\n",
              "      <td>0.593</td>\n",
              "      <td>0.502</td>\n",
              "      <td>0.493</td>\n",
              "      <td>0.504</td>\n",
              "      <td>0.449</td>\n",
              "      <td>0.431</td>\n",
              "      <td>0.444</td>\n",
              "      <td>0.444</td>\n",
              "      <td>0.429</td>\n",
              "      <td>Slight-Right-Turn</td>\n",
              "    </tr>\n",
              "    <tr>\n",
              "      <th>3</th>\n",
              "      <td>0.438</td>\n",
              "      <td>0.498</td>\n",
              "      <td>3.626</td>\n",
              "      <td>3.629</td>\n",
              "      <td>5.0</td>\n",
              "      <td>2.918</td>\n",
              "      <td>5.0</td>\n",
              "      <td>2.640</td>\n",
              "      <td>2.334</td>\n",
              "      <td>2.639</td>\n",
              "      <td>1.696</td>\n",
              "      <td>1.687</td>\n",
              "      <td>1.695</td>\n",
              "      <td>1.717</td>\n",
              "      <td>1.744</td>\n",
              "      <td>0.592</td>\n",
              "      <td>0.502</td>\n",
              "      <td>0.493</td>\n",
              "      <td>0.504</td>\n",
              "      <td>0.449</td>\n",
              "      <td>0.431</td>\n",
              "      <td>0.444</td>\n",
              "      <td>0.441</td>\n",
              "      <td>0.429</td>\n",
              "      <td>Slight-Right-Turn</td>\n",
              "    </tr>\n",
              "    <tr>\n",
              "      <th>4</th>\n",
              "      <td>0.439</td>\n",
              "      <td>0.498</td>\n",
              "      <td>3.626</td>\n",
              "      <td>3.629</td>\n",
              "      <td>5.0</td>\n",
              "      <td>2.918</td>\n",
              "      <td>5.0</td>\n",
              "      <td>2.633</td>\n",
              "      <td>2.334</td>\n",
              "      <td>2.645</td>\n",
              "      <td>1.705</td>\n",
              "      <td>1.686</td>\n",
              "      <td>1.694</td>\n",
              "      <td>1.719</td>\n",
              "      <td>1.744</td>\n",
              "      <td>0.589</td>\n",
              "      <td>0.502</td>\n",
              "      <td>0.493</td>\n",
              "      <td>0.504</td>\n",
              "      <td>0.446</td>\n",
              "      <td>0.431</td>\n",
              "      <td>0.444</td>\n",
              "      <td>0.444</td>\n",
              "      <td>0.430</td>\n",
              "      <td>Slight-Right-Turn</td>\n",
              "    </tr>\n",
              "  </tbody>\n",
              "</table>\n",
              "</div>"
            ],
            "text/plain": [
              "   0.438  0.498  3.625  3.645  ...  0.444  0.440  0.429  Slight-Right-Turn\n",
              "0  0.438  0.498  3.625  3.648  ...  0.444  0.443  0.429  Slight-Right-Turn\n",
              "1  0.438  0.498  3.625  3.629  ...  0.444  0.446  0.429  Slight-Right-Turn\n",
              "2  0.437  0.501  3.625  3.626  ...  0.444  0.444  0.429  Slight-Right-Turn\n",
              "3  0.438  0.498  3.626  3.629  ...  0.444  0.441  0.429  Slight-Right-Turn\n",
              "4  0.439  0.498  3.626  3.629  ...  0.444  0.444  0.430  Slight-Right-Turn\n",
              "\n",
              "[5 rows x 25 columns]"
            ]
          },
          "metadata": {
            "tags": []
          },
          "execution_count": 14
        }
      ]
    },
    {
      "cell_type": "code",
      "metadata": {
        "id": "vFmKE7H3rWmQ",
        "colab_type": "code",
        "colab": {
          "base_uri": "https://localhost:8080/",
          "height": 307
        },
        "outputId": "de9d4840-f29d-4618-9ba4-ed1f360c276e"
      },
      "source": [
        "data.describe()"
      ],
      "execution_count": 15,
      "outputs": [
        {
          "output_type": "execute_result",
          "data": {
            "text/html": [
              "<div>\n",
              "<style scoped>\n",
              "    .dataframe tbody tr th:only-of-type {\n",
              "        vertical-align: middle;\n",
              "    }\n",
              "\n",
              "    .dataframe tbody tr th {\n",
              "        vertical-align: top;\n",
              "    }\n",
              "\n",
              "    .dataframe thead th {\n",
              "        text-align: right;\n",
              "    }\n",
              "</style>\n",
              "<table border=\"1\" class=\"dataframe\">\n",
              "  <thead>\n",
              "    <tr style=\"text-align: right;\">\n",
              "      <th></th>\n",
              "      <th>0.438</th>\n",
              "      <th>0.498</th>\n",
              "      <th>3.625</th>\n",
              "      <th>3.645</th>\n",
              "      <th>5.000</th>\n",
              "      <th>2.918</th>\n",
              "      <th>5.000.1</th>\n",
              "      <th>2.351</th>\n",
              "      <th>2.332</th>\n",
              "      <th>2.643</th>\n",
              "      <th>1.698</th>\n",
              "      <th>1.687</th>\n",
              "      <th>1.698.1</th>\n",
              "      <th>1.717</th>\n",
              "      <th>1.744</th>\n",
              "      <th>0.593</th>\n",
              "      <th>0.502</th>\n",
              "      <th>0.493</th>\n",
              "      <th>0.504</th>\n",
              "      <th>0.445</th>\n",
              "      <th>0.431</th>\n",
              "      <th>0.444</th>\n",
              "      <th>0.440</th>\n",
              "      <th>0.429</th>\n",
              "    </tr>\n",
              "  </thead>\n",
              "  <tbody>\n",
              "    <tr>\n",
              "      <th>count</th>\n",
              "      <td>5455.000000</td>\n",
              "      <td>5455.000000</td>\n",
              "      <td>5455.000000</td>\n",
              "      <td>5455.000000</td>\n",
              "      <td>5455.000000</td>\n",
              "      <td>5455.000000</td>\n",
              "      <td>5455.000000</td>\n",
              "      <td>5455.000000</td>\n",
              "      <td>5455.000000</td>\n",
              "      <td>5455.000000</td>\n",
              "      <td>5455.000000</td>\n",
              "      <td>5455.000000</td>\n",
              "      <td>5455.000000</td>\n",
              "      <td>5455.000000</td>\n",
              "      <td>5455.000000</td>\n",
              "      <td>5455.000000</td>\n",
              "      <td>5455.000000</td>\n",
              "      <td>5455.00000</td>\n",
              "      <td>5455.000000</td>\n",
              "      <td>5455.000000</td>\n",
              "      <td>5455.000000</td>\n",
              "      <td>5455.000000</td>\n",
              "      <td>5455.000000</td>\n",
              "      <td>5455.000000</td>\n",
              "    </tr>\n",
              "    <tr>\n",
              "      <th>mean</th>\n",
              "      <td>1.471807</td>\n",
              "      <td>2.327378</td>\n",
              "      <td>2.489139</td>\n",
              "      <td>2.796346</td>\n",
              "      <td>2.958178</td>\n",
              "      <td>2.893068</td>\n",
              "      <td>3.350811</td>\n",
              "      <td>2.540431</td>\n",
              "      <td>3.125767</td>\n",
              "      <td>2.832421</td>\n",
              "      <td>2.549554</td>\n",
              "      <td>2.077848</td>\n",
              "      <td>2.125856</td>\n",
              "      <td>2.190573</td>\n",
              "      <td>2.205857</td>\n",
              "      <td>1.202223</td>\n",
              "      <td>0.989921</td>\n",
              "      <td>0.91035</td>\n",
              "      <td>1.058212</td>\n",
              "      <td>1.076436</td>\n",
              "      <td>1.016030</td>\n",
              "      <td>1.778279</td>\n",
              "      <td>1.555250</td>\n",
              "      <td>1.578719</td>\n",
              "    </tr>\n",
              "    <tr>\n",
              "      <th>std</th>\n",
              "      <td>0.802753</td>\n",
              "      <td>1.410058</td>\n",
              "      <td>1.247454</td>\n",
              "      <td>1.309438</td>\n",
              "      <td>1.339062</td>\n",
              "      <td>1.282693</td>\n",
              "      <td>1.413645</td>\n",
              "      <td>1.111653</td>\n",
              "      <td>1.357047</td>\n",
              "      <td>1.307960</td>\n",
              "      <td>1.382107</td>\n",
              "      <td>1.249404</td>\n",
              "      <td>1.407285</td>\n",
              "      <td>1.577004</td>\n",
              "      <td>1.715580</td>\n",
              "      <td>1.098638</td>\n",
              "      <td>0.942138</td>\n",
              "      <td>0.88959</td>\n",
              "      <td>1.144711</td>\n",
              "      <td>1.141570</td>\n",
              "      <td>0.887485</td>\n",
              "      <td>1.571726</td>\n",
              "      <td>1.291478</td>\n",
              "      <td>1.150480</td>\n",
              "    </tr>\n",
              "    <tr>\n",
              "      <th>min</th>\n",
              "      <td>0.400000</td>\n",
              "      <td>0.437000</td>\n",
              "      <td>0.470000</td>\n",
              "      <td>0.833000</td>\n",
              "      <td>1.120000</td>\n",
              "      <td>1.114000</td>\n",
              "      <td>1.122000</td>\n",
              "      <td>0.859000</td>\n",
              "      <td>0.836000</td>\n",
              "      <td>0.810000</td>\n",
              "      <td>0.783000</td>\n",
              "      <td>0.778000</td>\n",
              "      <td>0.770000</td>\n",
              "      <td>0.756000</td>\n",
              "      <td>0.495000</td>\n",
              "      <td>0.424000</td>\n",
              "      <td>0.373000</td>\n",
              "      <td>0.35400</td>\n",
              "      <td>0.340000</td>\n",
              "      <td>0.355000</td>\n",
              "      <td>0.380000</td>\n",
              "      <td>0.370000</td>\n",
              "      <td>0.367000</td>\n",
              "      <td>0.377000</td>\n",
              "    </tr>\n",
              "    <tr>\n",
              "      <th>25%</th>\n",
              "      <td>0.921000</td>\n",
              "      <td>1.362000</td>\n",
              "      <td>1.538500</td>\n",
              "      <td>1.731000</td>\n",
              "      <td>1.774000</td>\n",
              "      <td>1.785500</td>\n",
              "      <td>1.930500</td>\n",
              "      <td>1.618000</td>\n",
              "      <td>1.799500</td>\n",
              "      <td>1.636000</td>\n",
              "      <td>1.579000</td>\n",
              "      <td>1.293000</td>\n",
              "      <td>1.190500</td>\n",
              "      <td>1.031000</td>\n",
              "      <td>0.860000</td>\n",
              "      <td>0.690500</td>\n",
              "      <td>0.581000</td>\n",
              "      <td>0.53000</td>\n",
              "      <td>0.523500</td>\n",
              "      <td>0.542000</td>\n",
              "      <td>0.567000</td>\n",
              "      <td>0.743000</td>\n",
              "      <td>0.792000</td>\n",
              "      <td>0.884000</td>\n",
              "    </tr>\n",
              "    <tr>\n",
              "      <th>50%</th>\n",
              "      <td>1.335000</td>\n",
              "      <td>1.905000</td>\n",
              "      <td>2.064000</td>\n",
              "      <td>2.457000</td>\n",
              "      <td>2.667000</td>\n",
              "      <td>2.682000</td>\n",
              "      <td>3.225000</td>\n",
              "      <td>2.171000</td>\n",
              "      <td>2.802000</td>\n",
              "      <td>2.679000</td>\n",
              "      <td>2.000000</td>\n",
              "      <td>1.689000</td>\n",
              "      <td>1.609000</td>\n",
              "      <td>1.493000</td>\n",
              "      <td>1.328000</td>\n",
              "      <td>0.803000</td>\n",
              "      <td>0.738000</td>\n",
              "      <td>0.68500</td>\n",
              "      <td>0.691000</td>\n",
              "      <td>0.693000</td>\n",
              "      <td>0.764000</td>\n",
              "      <td>1.031000</td>\n",
              "      <td>1.071000</td>\n",
              "      <td>1.289000</td>\n",
              "    </tr>\n",
              "    <tr>\n",
              "      <th>75%</th>\n",
              "      <td>1.814000</td>\n",
              "      <td>2.683000</td>\n",
              "      <td>2.739000</td>\n",
              "      <td>4.094000</td>\n",
              "      <td>4.314000</td>\n",
              "      <td>3.835500</td>\n",
              "      <td>5.000000</td>\n",
              "      <td>3.193000</td>\n",
              "      <td>5.000000</td>\n",
              "      <td>3.526500</td>\n",
              "      <td>3.217500</td>\n",
              "      <td>2.283000</td>\n",
              "      <td>2.358500</td>\n",
              "      <td>2.739500</td>\n",
              "      <td>4.436500</td>\n",
              "      <td>1.159000</td>\n",
              "      <td>0.913000</td>\n",
              "      <td>0.83700</td>\n",
              "      <td>0.857000</td>\n",
              "      <td>0.863000</td>\n",
              "      <td>1.002500</td>\n",
              "      <td>2.068500</td>\n",
              "      <td>1.560000</td>\n",
              "      <td>1.657500</td>\n",
              "    </tr>\n",
              "    <tr>\n",
              "      <th>max</th>\n",
              "      <td>5.000000</td>\n",
              "      <td>5.025000</td>\n",
              "      <td>5.029000</td>\n",
              "      <td>5.017000</td>\n",
              "      <td>5.000000</td>\n",
              "      <td>5.005000</td>\n",
              "      <td>5.008000</td>\n",
              "      <td>5.087000</td>\n",
              "      <td>5.000000</td>\n",
              "      <td>5.022000</td>\n",
              "      <td>5.019000</td>\n",
              "      <td>5.000000</td>\n",
              "      <td>5.003000</td>\n",
              "      <td>5.000000</td>\n",
              "      <td>5.000000</td>\n",
              "      <td>5.000000</td>\n",
              "      <td>5.000000</td>\n",
              "      <td>5.00000</td>\n",
              "      <td>5.000000</td>\n",
              "      <td>5.000000</td>\n",
              "      <td>5.000000</td>\n",
              "      <td>5.000000</td>\n",
              "      <td>5.000000</td>\n",
              "      <td>5.000000</td>\n",
              "    </tr>\n",
              "  </tbody>\n",
              "</table>\n",
              "</div>"
            ],
            "text/plain": [
              "             0.438        0.498  ...        0.440        0.429\n",
              "count  5455.000000  5455.000000  ...  5455.000000  5455.000000\n",
              "mean      1.471807     2.327378  ...     1.555250     1.578719\n",
              "std       0.802753     1.410058  ...     1.291478     1.150480\n",
              "min       0.400000     0.437000  ...     0.367000     0.377000\n",
              "25%       0.921000     1.362000  ...     0.792000     0.884000\n",
              "50%       1.335000     1.905000  ...     1.071000     1.289000\n",
              "75%       1.814000     2.683000  ...     1.560000     1.657500\n",
              "max       5.000000     5.025000  ...     5.000000     5.000000\n",
              "\n",
              "[8 rows x 24 columns]"
            ]
          },
          "metadata": {
            "tags": []
          },
          "execution_count": 15
        }
      ]
    },
    {
      "cell_type": "code",
      "metadata": {
        "id": "QVzyFUrWrbcp",
        "colab_type": "code",
        "colab": {}
      },
      "source": [
        "x = data.iloc[:,:-1]\n",
        "y = data.iloc[:,-1]"
      ],
      "execution_count": null,
      "outputs": []
    },
    {
      "cell_type": "code",
      "metadata": {
        "id": "ABTg_i8DwGb_",
        "colab_type": "code",
        "colab": {}
      },
      "source": [
        "x_train, x_test, y_train, y_test = train_test_split(x,y,test_size=0.3,random_state=0)"
      ],
      "execution_count": null,
      "outputs": []
    },
    {
      "cell_type": "code",
      "metadata": {
        "id": "UaiOIuaiwK62",
        "colab_type": "code",
        "colab": {
          "base_uri": "https://localhost:8080/",
          "height": 34
        },
        "outputId": "4b39bd98-6ecc-4019-cca7-464614282f18"
      },
      "source": [
        "x_train.shape"
      ],
      "execution_count": null,
      "outputs": [
        {
          "output_type": "execute_result",
          "data": {
            "text/plain": [
              "(3818, 24)"
            ]
          },
          "metadata": {
            "tags": []
          },
          "execution_count": 143
        }
      ]
    },
    {
      "cell_type": "code",
      "metadata": {
        "id": "bUtJbfyAwPK1",
        "colab_type": "code",
        "colab": {
          "base_uri": "https://localhost:8080/",
          "height": 34
        },
        "outputId": "d943f4ae-bf72-4f96-9aed-dc3967c6b601"
      },
      "source": [
        "y_train.shape"
      ],
      "execution_count": null,
      "outputs": [
        {
          "output_type": "execute_result",
          "data": {
            "text/plain": [
              "(3818,)"
            ]
          },
          "metadata": {
            "tags": []
          },
          "execution_count": 144
        }
      ]
    },
    {
      "cell_type": "code",
      "metadata": {
        "id": "-1F4IVNF9901",
        "colab_type": "code",
        "colab": {
          "base_uri": "https://localhost:8080/",
          "height": 34
        },
        "outputId": "b84b9762-9cad-4a90-ca1c-bc7e5179c4f4"
      },
      "source": [
        "set(y_train)"
      ],
      "execution_count": null,
      "outputs": [
        {
          "output_type": "execute_result",
          "data": {
            "text/plain": [
              "{'Move-Forward', 'Sharp-Right-Turn', 'Slight-Left-Turn', 'Slight-Right-Turn'}"
            ]
          },
          "metadata": {
            "tags": []
          },
          "execution_count": 145
        }
      ]
    },
    {
      "cell_type": "code",
      "metadata": {
        "id": "AbTt90s5_7Lb",
        "colab_type": "code",
        "colab": {
          "base_uri": "https://localhost:8080/",
          "height": 34
        },
        "outputId": "897f4ab2-104b-4434-a015-3f951fbae350"
      },
      "source": [
        "from sklearn.preprocessing import LabelEncoder\n",
        "le = LabelEncoder()\n",
        "y_train = le.fit_transform(y_train)\n",
        "y_train\n",
        "y_test = le.fit_transform(y_test)\n",
        "y_test"
      ],
      "execution_count": null,
      "outputs": [
        {
          "output_type": "execute_result",
          "data": {
            "text/plain": [
              "array([0, 0, 1, ..., 2, 0, 0])"
            ]
          },
          "metadata": {
            "tags": []
          },
          "execution_count": 146
        }
      ]
    },
    {
      "cell_type": "code",
      "metadata": {
        "id": "16Yg8CNMGKOI",
        "colab_type": "code",
        "colab": {
          "base_uri": "https://localhost:8080/",
          "height": 34
        },
        "outputId": "a19477c1-24b6-4dd4-9aa0-fa84b56ff85b"
      },
      "source": [
        "set(y_train)"
      ],
      "execution_count": null,
      "outputs": [
        {
          "output_type": "execute_result",
          "data": {
            "text/plain": [
              "{0, 1, 2, 3}"
            ]
          },
          "metadata": {
            "tags": []
          },
          "execution_count": 147
        }
      ]
    },
    {
      "cell_type": "code",
      "metadata": {
        "id": "BloRAcXEB7TP",
        "colab_type": "code",
        "colab": {}
      },
      "source": [
        "from keras.utils import np_utils\n",
        "y_train = np_utils.to_categorical(y_train,4)\n",
        "y_test = np_utils.to_categorical(y_test,4)"
      ],
      "execution_count": null,
      "outputs": []
    },
    {
      "cell_type": "code",
      "metadata": {
        "id": "xkcztbtcI0-t",
        "colab_type": "code",
        "colab": {
          "base_uri": "https://localhost:8080/",
          "height": 34
        },
        "outputId": "52cd6401-758c-40db-eab0-c5d7f0958bf8"
      },
      "source": [
        "y_train.shape"
      ],
      "execution_count": null,
      "outputs": [
        {
          "output_type": "execute_result",
          "data": {
            "text/plain": [
              "(3818, 4)"
            ]
          },
          "metadata": {
            "tags": []
          },
          "execution_count": 149
        }
      ]
    },
    {
      "cell_type": "code",
      "metadata": {
        "id": "X9qMmrN6T4b6",
        "colab_type": "code",
        "colab": {}
      },
      "source": [
        "def hyper_model(hp):\n",
        "  model = Sequential()\n",
        "  model.add(Dense(units=hp.Int('Dense_unit1',min_value=32,max_value=128,step=16),activation=hp.Choice('Dense_act1',values=['sigmoid','relu','tanh']),input_dim=24))\n",
        "  model.add(Dense(units=hp.Int('Dense_unit2',min_value=32,max_value=128,step=16),activation=hp.Choice('Dense_act2',values=['sigmoid','relu','tanh'])))\n",
        "  model.add(Dense(units=hp.Int('Dense_unit3',min_value=32,max_value=128,step=16),activation=hp.Choice('Dense_act3',values=['sigmoid','relu','tanh'])))\n",
        "  model.add(Dense(4,activation='softmax'))\n",
        "  model.compile(loss='categorical_crossentropy',optimizer=hp.Choice('optimizer',values=['adam','sgd']),metrics=['accuracy'])\n",
        "  return model"
      ],
      "execution_count": null,
      "outputs": []
    },
    {
      "cell_type": "code",
      "metadata": {
        "id": "HJLxbTUsUWhq",
        "colab_type": "code",
        "colab": {}
      },
      "source": [
        "tuner_search = RandomSearch(hyper_model,objective='val_accuracy',max_trials=4,directory='Hyper_parameter4',project_name='sensor_model')"
      ],
      "execution_count": null,
      "outputs": []
    },
    {
      "cell_type": "code",
      "metadata": {
        "id": "xQYKnFbkUrrc",
        "colab_type": "code",
        "colab": {
          "base_uri": "https://localhost:8080/",
          "height": 1000
        },
        "outputId": "2e71ebe6-bbe0-49e4-cd1f-52f99e7f3eb9"
      },
      "source": [
        "tuner_search.search(x_train,y_train, epochs=5,validation_split=0.1,batch_size=100)"
      ],
      "execution_count": null,
      "outputs": [
        {
          "output_type": "stream",
          "text": [
            "Epoch 1/5\n",
            "35/35 [==============================] - 0s 7ms/step - loss: 1.1153 - accuracy: 0.5122 - val_loss: 0.9284 - val_accuracy: 0.5942\n",
            "Epoch 2/5\n",
            "35/35 [==============================] - 0s 5ms/step - loss: 0.8532 - accuracy: 0.6429 - val_loss: 0.7728 - val_accuracy: 0.6649\n",
            "Epoch 3/5\n",
            "35/35 [==============================] - 0s 4ms/step - loss: 0.7214 - accuracy: 0.7180 - val_loss: 0.6866 - val_accuracy: 0.7330\n",
            "Epoch 4/5\n",
            "35/35 [==============================] - 0s 5ms/step - loss: 0.6416 - accuracy: 0.7541 - val_loss: 0.6229 - val_accuracy: 0.7513\n",
            "Epoch 5/5\n",
            "35/35 [==============================] - 0s 4ms/step - loss: 0.5861 - accuracy: 0.7718 - val_loss: 0.5559 - val_accuracy: 0.7827\n"
          ],
          "name": "stdout"
        },
        {
          "output_type": "display_data",
          "data": {
            "text/html": [
              "<span style=\"color:#4527A0\"><h1 style=\"font-size:18px\">Trial complete</h1></span>"
            ],
            "text/plain": [
              "<IPython.core.display.HTML object>"
            ]
          },
          "metadata": {
            "tags": []
          }
        },
        {
          "output_type": "display_data",
          "data": {
            "text/html": [
              "<span style=\"color:#4527A0\"><h1 style=\"font-size:18px\">Trial summary</h1></span>"
            ],
            "text/plain": [
              "<IPython.core.display.HTML object>"
            ]
          },
          "metadata": {
            "tags": []
          }
        },
        {
          "output_type": "display_data",
          "data": {
            "text/html": [
              "<span style=\"color:cyan\"> |-Trial ID: 3d3b82390a51fff0a9a522f2c4e44f0b</span>"
            ],
            "text/plain": [
              "<IPython.core.display.HTML object>"
            ]
          },
          "metadata": {
            "tags": []
          }
        },
        {
          "output_type": "display_data",
          "data": {
            "text/html": [
              "<span style=\"color:cyan\"> |-Score: 0.782722532749176</span>"
            ],
            "text/plain": [
              "<IPython.core.display.HTML object>"
            ]
          },
          "metadata": {
            "tags": []
          }
        },
        {
          "output_type": "display_data",
          "data": {
            "text/html": [
              "<span style=\"color:cyan\"> |-Best step: 0</span>"
            ],
            "text/plain": [
              "<IPython.core.display.HTML object>"
            ]
          },
          "metadata": {
            "tags": []
          }
        },
        {
          "output_type": "display_data",
          "data": {
            "text/html": [
              "<span style=\"color:#7E57C2\"><h2 style=\"font-size:16px\">Hyperparameters:</h2></span>"
            ],
            "text/plain": [
              "<IPython.core.display.HTML object>"
            ]
          },
          "metadata": {
            "tags": []
          }
        },
        {
          "output_type": "display_data",
          "data": {
            "text/html": [
              "<span style=\"color:cyan\"> |-Dense_act1: tanh</span>"
            ],
            "text/plain": [
              "<IPython.core.display.HTML object>"
            ]
          },
          "metadata": {
            "tags": []
          }
        },
        {
          "output_type": "display_data",
          "data": {
            "text/html": [
              "<span style=\"color:blue\"> |-Dense_act2: relu</span>"
            ],
            "text/plain": [
              "<IPython.core.display.HTML object>"
            ]
          },
          "metadata": {
            "tags": []
          }
        },
        {
          "output_type": "display_data",
          "data": {
            "text/html": [
              "<span style=\"color:cyan\"> |-Dense_act3: sigmoid</span>"
            ],
            "text/plain": [
              "<IPython.core.display.HTML object>"
            ]
          },
          "metadata": {
            "tags": []
          }
        },
        {
          "output_type": "display_data",
          "data": {
            "text/html": [
              "<span style=\"color:blue\"> |-Dense_unit1: 112</span>"
            ],
            "text/plain": [
              "<IPython.core.display.HTML object>"
            ]
          },
          "metadata": {
            "tags": []
          }
        },
        {
          "output_type": "display_data",
          "data": {
            "text/html": [
              "<span style=\"color:cyan\"> |-Dense_unit2: 80</span>"
            ],
            "text/plain": [
              "<IPython.core.display.HTML object>"
            ]
          },
          "metadata": {
            "tags": []
          }
        },
        {
          "output_type": "display_data",
          "data": {
            "text/html": [
              "<span style=\"color:blue\"> |-Dense_unit3: 112</span>"
            ],
            "text/plain": [
              "<IPython.core.display.HTML object>"
            ]
          },
          "metadata": {
            "tags": []
          }
        },
        {
          "output_type": "display_data",
          "data": {
            "text/html": [
              "<span style=\"color:cyan\"> |-optimizer: adam</span>"
            ],
            "text/plain": [
              "<IPython.core.display.HTML object>"
            ]
          },
          "metadata": {
            "tags": []
          }
        },
        {
          "output_type": "stream",
          "text": [
            "Epoch 1/5\n",
            "35/35 [==============================] - 0s 7ms/step - loss: 1.1447 - accuracy: 0.5265 - val_loss: 1.0202 - val_accuracy: 0.5838\n",
            "Epoch 2/5\n",
            "35/35 [==============================] - 0s 4ms/step - loss: 0.9361 - accuracy: 0.6027 - val_loss: 0.8658 - val_accuracy: 0.6047\n",
            "Epoch 3/5\n",
            "35/35 [==============================] - 0s 4ms/step - loss: 0.8004 - accuracy: 0.6493 - val_loss: 0.7784 - val_accuracy: 0.6571\n",
            "Epoch 4/5\n",
            "35/35 [==============================] - 0s 4ms/step - loss: 0.7379 - accuracy: 0.6863 - val_loss: 0.7444 - val_accuracy: 0.6885\n",
            "Epoch 5/5\n",
            "35/35 [==============================] - 0s 5ms/step - loss: 0.6937 - accuracy: 0.7008 - val_loss: 0.7047 - val_accuracy: 0.7173\n"
          ],
          "name": "stdout"
        },
        {
          "output_type": "display_data",
          "data": {
            "text/html": [
              "<span style=\"color:#4527A0\"><h1 style=\"font-size:18px\">Trial complete</h1></span>"
            ],
            "text/plain": [
              "<IPython.core.display.HTML object>"
            ]
          },
          "metadata": {
            "tags": []
          }
        },
        {
          "output_type": "display_data",
          "data": {
            "text/html": [
              "<span style=\"color:#4527A0\"><h1 style=\"font-size:18px\">Trial summary</h1></span>"
            ],
            "text/plain": [
              "<IPython.core.display.HTML object>"
            ]
          },
          "metadata": {
            "tags": []
          }
        },
        {
          "output_type": "display_data",
          "data": {
            "text/html": [
              "<span style=\"color:cyan\"> |-Trial ID: 00b734891b5204a2b3f09e360e2acc7a</span>"
            ],
            "text/plain": [
              "<IPython.core.display.HTML object>"
            ]
          },
          "metadata": {
            "tags": []
          }
        },
        {
          "output_type": "display_data",
          "data": {
            "text/html": [
              "<span style=\"color:cyan\"> |-Score: 0.717277467250824</span>"
            ],
            "text/plain": [
              "<IPython.core.display.HTML object>"
            ]
          },
          "metadata": {
            "tags": []
          }
        },
        {
          "output_type": "display_data",
          "data": {
            "text/html": [
              "<span style=\"color:cyan\"> |-Best step: 0</span>"
            ],
            "text/plain": [
              "<IPython.core.display.HTML object>"
            ]
          },
          "metadata": {
            "tags": []
          }
        },
        {
          "output_type": "display_data",
          "data": {
            "text/html": [
              "<span style=\"color:#7E57C2\"><h2 style=\"font-size:16px\">Hyperparameters:</h2></span>"
            ],
            "text/plain": [
              "<IPython.core.display.HTML object>"
            ]
          },
          "metadata": {
            "tags": []
          }
        },
        {
          "output_type": "display_data",
          "data": {
            "text/html": [
              "<span style=\"color:cyan\"> |-Dense_act1: sigmoid</span>"
            ],
            "text/plain": [
              "<IPython.core.display.HTML object>"
            ]
          },
          "metadata": {
            "tags": []
          }
        },
        {
          "output_type": "display_data",
          "data": {
            "text/html": [
              "<span style=\"color:blue\"> |-Dense_act2: relu</span>"
            ],
            "text/plain": [
              "<IPython.core.display.HTML object>"
            ]
          },
          "metadata": {
            "tags": []
          }
        },
        {
          "output_type": "display_data",
          "data": {
            "text/html": [
              "<span style=\"color:cyan\"> |-Dense_act3: tanh</span>"
            ],
            "text/plain": [
              "<IPython.core.display.HTML object>"
            ]
          },
          "metadata": {
            "tags": []
          }
        },
        {
          "output_type": "display_data",
          "data": {
            "text/html": [
              "<span style=\"color:blue\"> |-Dense_unit1: 80</span>"
            ],
            "text/plain": [
              "<IPython.core.display.HTML object>"
            ]
          },
          "metadata": {
            "tags": []
          }
        },
        {
          "output_type": "display_data",
          "data": {
            "text/html": [
              "<span style=\"color:cyan\"> |-Dense_unit2: 64</span>"
            ],
            "text/plain": [
              "<IPython.core.display.HTML object>"
            ]
          },
          "metadata": {
            "tags": []
          }
        },
        {
          "output_type": "display_data",
          "data": {
            "text/html": [
              "<span style=\"color:blue\"> |-Dense_unit3: 128</span>"
            ],
            "text/plain": [
              "<IPython.core.display.HTML object>"
            ]
          },
          "metadata": {
            "tags": []
          }
        },
        {
          "output_type": "display_data",
          "data": {
            "text/html": [
              "<span style=\"color:cyan\"> |-optimizer: adam</span>"
            ],
            "text/plain": [
              "<IPython.core.display.HTML object>"
            ]
          },
          "metadata": {
            "tags": []
          }
        },
        {
          "output_type": "stream",
          "text": [
            "Epoch 1/5\n",
            "35/35 [==============================] - 0s 7ms/step - loss: 1.1994 - accuracy: 0.4566 - val_loss: 1.1483 - val_accuracy: 0.4921\n",
            "Epoch 2/5\n",
            "35/35 [==============================] - 0s 4ms/step - loss: 1.0826 - accuracy: 0.5780 - val_loss: 1.0008 - val_accuracy: 0.6152\n",
            "Epoch 3/5\n",
            "35/35 [==============================] - 0s 4ms/step - loss: 0.9488 - accuracy: 0.5995 - val_loss: 0.8941 - val_accuracy: 0.6126\n",
            "Epoch 4/5\n",
            "35/35 [==============================] - 0s 4ms/step - loss: 0.8560 - accuracy: 0.6225 - val_loss: 0.8419 - val_accuracy: 0.6204\n",
            "Epoch 5/5\n",
            "35/35 [==============================] - 0s 4ms/step - loss: 0.7896 - accuracy: 0.6703 - val_loss: 0.7953 - val_accuracy: 0.6230\n"
          ],
          "name": "stdout"
        },
        {
          "output_type": "display_data",
          "data": {
            "text/html": [
              "<span style=\"color:#4527A0\"><h1 style=\"font-size:18px\">Trial complete</h1></span>"
            ],
            "text/plain": [
              "<IPython.core.display.HTML object>"
            ]
          },
          "metadata": {
            "tags": []
          }
        },
        {
          "output_type": "display_data",
          "data": {
            "text/html": [
              "<span style=\"color:#4527A0\"><h1 style=\"font-size:18px\">Trial summary</h1></span>"
            ],
            "text/plain": [
              "<IPython.core.display.HTML object>"
            ]
          },
          "metadata": {
            "tags": []
          }
        },
        {
          "output_type": "display_data",
          "data": {
            "text/html": [
              "<span style=\"color:cyan\"> |-Trial ID: 5680ad410b5ec17d270777f14df3fa6d</span>"
            ],
            "text/plain": [
              "<IPython.core.display.HTML object>"
            ]
          },
          "metadata": {
            "tags": []
          }
        },
        {
          "output_type": "display_data",
          "data": {
            "text/html": [
              "<span style=\"color:cyan\"> |-Score: 0.6230366230010986</span>"
            ],
            "text/plain": [
              "<IPython.core.display.HTML object>"
            ]
          },
          "metadata": {
            "tags": []
          }
        },
        {
          "output_type": "display_data",
          "data": {
            "text/html": [
              "<span style=\"color:cyan\"> |-Best step: 0</span>"
            ],
            "text/plain": [
              "<IPython.core.display.HTML object>"
            ]
          },
          "metadata": {
            "tags": []
          }
        },
        {
          "output_type": "display_data",
          "data": {
            "text/html": [
              "<span style=\"color:#7E57C2\"><h2 style=\"font-size:16px\">Hyperparameters:</h2></span>"
            ],
            "text/plain": [
              "<IPython.core.display.HTML object>"
            ]
          },
          "metadata": {
            "tags": []
          }
        },
        {
          "output_type": "display_data",
          "data": {
            "text/html": [
              "<span style=\"color:cyan\"> |-Dense_act1: sigmoid</span>"
            ],
            "text/plain": [
              "<IPython.core.display.HTML object>"
            ]
          },
          "metadata": {
            "tags": []
          }
        },
        {
          "output_type": "display_data",
          "data": {
            "text/html": [
              "<span style=\"color:blue\"> |-Dense_act2: tanh</span>"
            ],
            "text/plain": [
              "<IPython.core.display.HTML object>"
            ]
          },
          "metadata": {
            "tags": []
          }
        },
        {
          "output_type": "display_data",
          "data": {
            "text/html": [
              "<span style=\"color:cyan\"> |-Dense_act3: sigmoid</span>"
            ],
            "text/plain": [
              "<IPython.core.display.HTML object>"
            ]
          },
          "metadata": {
            "tags": []
          }
        },
        {
          "output_type": "display_data",
          "data": {
            "text/html": [
              "<span style=\"color:blue\"> |-Dense_unit1: 80</span>"
            ],
            "text/plain": [
              "<IPython.core.display.HTML object>"
            ]
          },
          "metadata": {
            "tags": []
          }
        },
        {
          "output_type": "display_data",
          "data": {
            "text/html": [
              "<span style=\"color:cyan\"> |-Dense_unit2: 48</span>"
            ],
            "text/plain": [
              "<IPython.core.display.HTML object>"
            ]
          },
          "metadata": {
            "tags": []
          }
        },
        {
          "output_type": "display_data",
          "data": {
            "text/html": [
              "<span style=\"color:blue\"> |-Dense_unit3: 64</span>"
            ],
            "text/plain": [
              "<IPython.core.display.HTML object>"
            ]
          },
          "metadata": {
            "tags": []
          }
        },
        {
          "output_type": "display_data",
          "data": {
            "text/html": [
              "<span style=\"color:cyan\"> |-optimizer: adam</span>"
            ],
            "text/plain": [
              "<IPython.core.display.HTML object>"
            ]
          },
          "metadata": {
            "tags": []
          }
        },
        {
          "output_type": "stream",
          "text": [
            "Epoch 1/5\n",
            "35/35 [==============================] - 0s 6ms/step - loss: 1.2212 - accuracy: 0.4182 - val_loss: 1.1877 - val_accuracy: 0.4031\n",
            "Epoch 2/5\n",
            "35/35 [==============================] - 0s 4ms/step - loss: 1.1788 - accuracy: 0.4729 - val_loss: 1.1667 - val_accuracy: 0.5131\n",
            "Epoch 3/5\n",
            "35/35 [==============================] - 0s 4ms/step - loss: 1.1630 - accuracy: 0.5204 - val_loss: 1.1535 - val_accuracy: 0.5236\n",
            "Epoch 4/5\n",
            "35/35 [==============================] - 0s 3ms/step - loss: 1.1508 - accuracy: 0.5393 - val_loss: 1.1447 - val_accuracy: 0.5105\n",
            "Epoch 5/5\n",
            "35/35 [==============================] - 0s 4ms/step - loss: 1.1400 - accuracy: 0.5378 - val_loss: 1.1308 - val_accuracy: 0.5314\n"
          ],
          "name": "stdout"
        },
        {
          "output_type": "display_data",
          "data": {
            "text/html": [
              "<span style=\"color:#4527A0\"><h1 style=\"font-size:18px\">Trial complete</h1></span>"
            ],
            "text/plain": [
              "<IPython.core.display.HTML object>"
            ]
          },
          "metadata": {
            "tags": []
          }
        },
        {
          "output_type": "display_data",
          "data": {
            "text/html": [
              "<span style=\"color:#4527A0\"><h1 style=\"font-size:18px\">Trial summary</h1></span>"
            ],
            "text/plain": [
              "<IPython.core.display.HTML object>"
            ]
          },
          "metadata": {
            "tags": []
          }
        },
        {
          "output_type": "display_data",
          "data": {
            "text/html": [
              "<span style=\"color:cyan\"> |-Trial ID: 7e2b32ab4a4619b3b3cf5612f5ec4ddf</span>"
            ],
            "text/plain": [
              "<IPython.core.display.HTML object>"
            ]
          },
          "metadata": {
            "tags": []
          }
        },
        {
          "output_type": "display_data",
          "data": {
            "text/html": [
              "<span style=\"color:cyan\"> |-Score: 0.5314136147499084</span>"
            ],
            "text/plain": [
              "<IPython.core.display.HTML object>"
            ]
          },
          "metadata": {
            "tags": []
          }
        },
        {
          "output_type": "display_data",
          "data": {
            "text/html": [
              "<span style=\"color:cyan\"> |-Best step: 0</span>"
            ],
            "text/plain": [
              "<IPython.core.display.HTML object>"
            ]
          },
          "metadata": {
            "tags": []
          }
        },
        {
          "output_type": "display_data",
          "data": {
            "text/html": [
              "<span style=\"color:#7E57C2\"><h2 style=\"font-size:16px\">Hyperparameters:</h2></span>"
            ],
            "text/plain": [
              "<IPython.core.display.HTML object>"
            ]
          },
          "metadata": {
            "tags": []
          }
        },
        {
          "output_type": "display_data",
          "data": {
            "text/html": [
              "<span style=\"color:cyan\"> |-Dense_act1: sigmoid</span>"
            ],
            "text/plain": [
              "<IPython.core.display.HTML object>"
            ]
          },
          "metadata": {
            "tags": []
          }
        },
        {
          "output_type": "display_data",
          "data": {
            "text/html": [
              "<span style=\"color:blue\"> |-Dense_act2: tanh</span>"
            ],
            "text/plain": [
              "<IPython.core.display.HTML object>"
            ]
          },
          "metadata": {
            "tags": []
          }
        },
        {
          "output_type": "display_data",
          "data": {
            "text/html": [
              "<span style=\"color:cyan\"> |-Dense_act3: relu</span>"
            ],
            "text/plain": [
              "<IPython.core.display.HTML object>"
            ]
          },
          "metadata": {
            "tags": []
          }
        },
        {
          "output_type": "display_data",
          "data": {
            "text/html": [
              "<span style=\"color:blue\"> |-Dense_unit1: 48</span>"
            ],
            "text/plain": [
              "<IPython.core.display.HTML object>"
            ]
          },
          "metadata": {
            "tags": []
          }
        },
        {
          "output_type": "display_data",
          "data": {
            "text/html": [
              "<span style=\"color:cyan\"> |-Dense_unit2: 48</span>"
            ],
            "text/plain": [
              "<IPython.core.display.HTML object>"
            ]
          },
          "metadata": {
            "tags": []
          }
        },
        {
          "output_type": "display_data",
          "data": {
            "text/html": [
              "<span style=\"color:blue\"> |-Dense_unit3: 96</span>"
            ],
            "text/plain": [
              "<IPython.core.display.HTML object>"
            ]
          },
          "metadata": {
            "tags": []
          }
        },
        {
          "output_type": "display_data",
          "data": {
            "text/html": [
              "<span style=\"color:cyan\"> |-optimizer: sgd</span>"
            ],
            "text/plain": [
              "<IPython.core.display.HTML object>"
            ]
          },
          "metadata": {
            "tags": []
          }
        },
        {
          "output_type": "stream",
          "text": [
            "INFO:tensorflow:Oracle triggered exit\n"
          ],
          "name": "stdout"
        }
      ]
    },
    {
      "cell_type": "code",
      "metadata": {
        "id": "MxqaSo98Vx-1",
        "colab_type": "code",
        "colab": {}
      },
      "source": [
        "best_model=tuner_search.get_best_models(num_models=1)[0]"
      ],
      "execution_count": null,
      "outputs": []
    },
    {
      "cell_type": "code",
      "metadata": {
        "id": "bLsQiU7QWSRO",
        "colab_type": "code",
        "colab": {
          "base_uri": "https://localhost:8080/",
          "height": 390
        },
        "outputId": "b4bc7540-af58-48e7-9510-0c3403f679a9"
      },
      "source": [
        "best_model.fit(x_train,y_train, epochs=10,batch_size=100)"
      ],
      "execution_count": null,
      "outputs": [
        {
          "output_type": "stream",
          "text": [
            "Epoch 1/10\n",
            "39/39 [==============================] - 0s 3ms/step - loss: 0.5326 - accuracy: 0.7928\n",
            "Epoch 2/10\n",
            "39/39 [==============================] - 0s 3ms/step - loss: 0.4858 - accuracy: 0.8224\n",
            "Epoch 3/10\n",
            "39/39 [==============================] - 0s 3ms/step - loss: 0.4438 - accuracy: 0.8387\n",
            "Epoch 4/10\n",
            "39/39 [==============================] - 0s 3ms/step - loss: 0.4081 - accuracy: 0.8570\n",
            "Epoch 5/10\n",
            "39/39 [==============================] - 0s 3ms/step - loss: 0.3913 - accuracy: 0.8465\n",
            "Epoch 6/10\n",
            "39/39 [==============================] - 0s 3ms/step - loss: 0.3551 - accuracy: 0.8704\n",
            "Epoch 7/10\n",
            "39/39 [==============================] - 0s 3ms/step - loss: 0.3456 - accuracy: 0.8761\n",
            "Epoch 8/10\n",
            "39/39 [==============================] - 0s 3ms/step - loss: 0.3168 - accuracy: 0.8916\n",
            "Epoch 9/10\n",
            "39/39 [==============================] - 0s 3ms/step - loss: 0.2942 - accuracy: 0.8968\n",
            "Epoch 10/10\n",
            "39/39 [==============================] - 0s 3ms/step - loss: 0.2855 - accuracy: 0.8968\n"
          ],
          "name": "stdout"
        },
        {
          "output_type": "execute_result",
          "data": {
            "text/plain": [
              "<tensorflow.python.keras.callbacks.History at 0x7f4704d9f7b8>"
            ]
          },
          "metadata": {
            "tags": []
          },
          "execution_count": 158
        }
      ]
    },
    {
      "cell_type": "code",
      "metadata": {
        "id": "dGUbyETFWYjH",
        "colab_type": "code",
        "colab": {}
      },
      "source": [
        ""
      ],
      "execution_count": null,
      "outputs": []
    }
  ]
}