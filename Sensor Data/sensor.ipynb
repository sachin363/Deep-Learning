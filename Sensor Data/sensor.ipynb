{
 "cells": [
  {
   "cell_type": "code",
   "execution_count": 0,
   "metadata": {
    "colab": {},
    "colab_type": "code",
    "id": "2_ue4jl2o1qJ"
   },
   "outputs": [],
   "source": [
    "import tensorflow as tf\n",
    "import pandas as pd\n",
    "import numpy as np\n",
    "from tensorflow.keras.models import Sequential\n",
    "from tensorflow.keras.layers import Dense,BatchNormalization,Dropout\n",
    "from sklearn.model_selection import train_test_split"
   ]
  },
  {
   "cell_type": "code",
   "execution_count": 0,
   "metadata": {
    "colab": {},
    "colab_type": "code",
    "id": "qCZ4-xj5qgdK"
   },
   "outputs": [],
   "source": [
    "data =pd.read_csv('sensor_readings_24.csv')"
   ]
  },
  {
   "cell_type": "code",
   "execution_count": 58,
   "metadata": {
    "colab": {
     "base_uri": "https://localhost:8080/",
     "height": 428
    },
    "colab_type": "code",
    "id": "1kBt6lEgrHfH",
    "outputId": "5cb1d303-cf1f-4304-ef5a-28e852aaede1"
   },
   "outputs": [
    {
     "data": {
      "text/html": [
       "<div>\n",
       "<style scoped>\n",
       "    .dataframe tbody tr th:only-of-type {\n",
       "        vertical-align: middle;\n",
       "    }\n",
       "\n",
       "    .dataframe tbody tr th {\n",
       "        vertical-align: top;\n",
       "    }\n",
       "\n",
       "    .dataframe thead th {\n",
       "        text-align: right;\n",
       "    }\n",
       "</style>\n",
       "<table border=\"1\" class=\"dataframe\">\n",
       "  <thead>\n",
       "    <tr style=\"text-align: right;\">\n",
       "      <th></th>\n",
       "      <th>0.438</th>\n",
       "      <th>0.498</th>\n",
       "      <th>3.625</th>\n",
       "      <th>3.645</th>\n",
       "      <th>5.000</th>\n",
       "      <th>2.918</th>\n",
       "      <th>5.000.1</th>\n",
       "      <th>2.351</th>\n",
       "      <th>2.332</th>\n",
       "      <th>2.643</th>\n",
       "      <th>1.698</th>\n",
       "      <th>1.687</th>\n",
       "      <th>1.698.1</th>\n",
       "      <th>1.717</th>\n",
       "      <th>1.744</th>\n",
       "      <th>0.593</th>\n",
       "      <th>0.502</th>\n",
       "      <th>0.493</th>\n",
       "      <th>0.504</th>\n",
       "      <th>0.445</th>\n",
       "      <th>0.431</th>\n",
       "      <th>0.444</th>\n",
       "      <th>0.440</th>\n",
       "      <th>0.429</th>\n",
       "      <th>Slight-Right-Turn</th>\n",
       "    </tr>\n",
       "  </thead>\n",
       "  <tbody>\n",
       "    <tr>\n",
       "      <th>0</th>\n",
       "      <td>0.438</td>\n",
       "      <td>0.498</td>\n",
       "      <td>3.625</td>\n",
       "      <td>3.648</td>\n",
       "      <td>5.0</td>\n",
       "      <td>2.918</td>\n",
       "      <td>5.0</td>\n",
       "      <td>2.637</td>\n",
       "      <td>2.332</td>\n",
       "      <td>2.649</td>\n",
       "      <td>1.695</td>\n",
       "      <td>1.687</td>\n",
       "      <td>1.695</td>\n",
       "      <td>1.720</td>\n",
       "      <td>1.744</td>\n",
       "      <td>0.592</td>\n",
       "      <td>0.502</td>\n",
       "      <td>0.493</td>\n",
       "      <td>0.504</td>\n",
       "      <td>0.449</td>\n",
       "      <td>0.431</td>\n",
       "      <td>0.444</td>\n",
       "      <td>0.443</td>\n",
       "      <td>0.429</td>\n",
       "      <td>Slight-Right-Turn</td>\n",
       "    </tr>\n",
       "    <tr>\n",
       "      <th>1</th>\n",
       "      <td>0.438</td>\n",
       "      <td>0.498</td>\n",
       "      <td>3.625</td>\n",
       "      <td>3.629</td>\n",
       "      <td>5.0</td>\n",
       "      <td>2.918</td>\n",
       "      <td>5.0</td>\n",
       "      <td>2.637</td>\n",
       "      <td>2.334</td>\n",
       "      <td>2.643</td>\n",
       "      <td>1.696</td>\n",
       "      <td>1.687</td>\n",
       "      <td>1.695</td>\n",
       "      <td>1.717</td>\n",
       "      <td>1.744</td>\n",
       "      <td>0.593</td>\n",
       "      <td>0.502</td>\n",
       "      <td>0.493</td>\n",
       "      <td>0.504</td>\n",
       "      <td>0.449</td>\n",
       "      <td>0.431</td>\n",
       "      <td>0.444</td>\n",
       "      <td>0.446</td>\n",
       "      <td>0.429</td>\n",
       "      <td>Slight-Right-Turn</td>\n",
       "    </tr>\n",
       "    <tr>\n",
       "      <th>2</th>\n",
       "      <td>0.437</td>\n",
       "      <td>0.501</td>\n",
       "      <td>3.625</td>\n",
       "      <td>3.626</td>\n",
       "      <td>5.0</td>\n",
       "      <td>2.918</td>\n",
       "      <td>5.0</td>\n",
       "      <td>2.353</td>\n",
       "      <td>2.334</td>\n",
       "      <td>2.642</td>\n",
       "      <td>1.730</td>\n",
       "      <td>1.687</td>\n",
       "      <td>1.695</td>\n",
       "      <td>1.717</td>\n",
       "      <td>1.744</td>\n",
       "      <td>0.593</td>\n",
       "      <td>0.502</td>\n",
       "      <td>0.493</td>\n",
       "      <td>0.504</td>\n",
       "      <td>0.449</td>\n",
       "      <td>0.431</td>\n",
       "      <td>0.444</td>\n",
       "      <td>0.444</td>\n",
       "      <td>0.429</td>\n",
       "      <td>Slight-Right-Turn</td>\n",
       "    </tr>\n",
       "    <tr>\n",
       "      <th>3</th>\n",
       "      <td>0.438</td>\n",
       "      <td>0.498</td>\n",
       "      <td>3.626</td>\n",
       "      <td>3.629</td>\n",
       "      <td>5.0</td>\n",
       "      <td>2.918</td>\n",
       "      <td>5.0</td>\n",
       "      <td>2.640</td>\n",
       "      <td>2.334</td>\n",
       "      <td>2.639</td>\n",
       "      <td>1.696</td>\n",
       "      <td>1.687</td>\n",
       "      <td>1.695</td>\n",
       "      <td>1.717</td>\n",
       "      <td>1.744</td>\n",
       "      <td>0.592</td>\n",
       "      <td>0.502</td>\n",
       "      <td>0.493</td>\n",
       "      <td>0.504</td>\n",
       "      <td>0.449</td>\n",
       "      <td>0.431</td>\n",
       "      <td>0.444</td>\n",
       "      <td>0.441</td>\n",
       "      <td>0.429</td>\n",
       "      <td>Slight-Right-Turn</td>\n",
       "    </tr>\n",
       "    <tr>\n",
       "      <th>4</th>\n",
       "      <td>0.439</td>\n",
       "      <td>0.498</td>\n",
       "      <td>3.626</td>\n",
       "      <td>3.629</td>\n",
       "      <td>5.0</td>\n",
       "      <td>2.918</td>\n",
       "      <td>5.0</td>\n",
       "      <td>2.633</td>\n",
       "      <td>2.334</td>\n",
       "      <td>2.645</td>\n",
       "      <td>1.705</td>\n",
       "      <td>1.686</td>\n",
       "      <td>1.694</td>\n",
       "      <td>1.719</td>\n",
       "      <td>1.744</td>\n",
       "      <td>0.589</td>\n",
       "      <td>0.502</td>\n",
       "      <td>0.493</td>\n",
       "      <td>0.504</td>\n",
       "      <td>0.446</td>\n",
       "      <td>0.431</td>\n",
       "      <td>0.444</td>\n",
       "      <td>0.444</td>\n",
       "      <td>0.430</td>\n",
       "      <td>Slight-Right-Turn</td>\n",
       "    </tr>\n",
       "  </tbody>\n",
       "</table>\n",
       "</div>"
      ],
      "text/plain": [
       "   0.438  0.498  3.625  3.645  ...  0.444  0.440  0.429  Slight-Right-Turn\n",
       "0  0.438  0.498  3.625  3.648  ...  0.444  0.443  0.429  Slight-Right-Turn\n",
       "1  0.438  0.498  3.625  3.629  ...  0.444  0.446  0.429  Slight-Right-Turn\n",
       "2  0.437  0.501  3.625  3.626  ...  0.444  0.444  0.429  Slight-Right-Turn\n",
       "3  0.438  0.498  3.626  3.629  ...  0.444  0.441  0.429  Slight-Right-Turn\n",
       "4  0.439  0.498  3.626  3.629  ...  0.444  0.444  0.430  Slight-Right-Turn\n",
       "\n",
       "[5 rows x 25 columns]"
      ]
     },
     "execution_count": 58,
     "metadata": {
      "tags": []
     },
     "output_type": "execute_result"
    }
   ],
   "source": [
    "data.head()"
   ]
  },
  {
   "cell_type": "code",
   "execution_count": 59,
   "metadata": {
    "colab": {
     "base_uri": "https://localhost:8080/",
     "height": 317
    },
    "colab_type": "code",
    "id": "vFmKE7H3rWmQ",
    "outputId": "a8931b35-69e1-4fcb-b8d3-1e3466cd4d2b"
   },
   "outputs": [
    {
     "data": {
      "text/html": [
       "<div>\n",
       "<style scoped>\n",
       "    .dataframe tbody tr th:only-of-type {\n",
       "        vertical-align: middle;\n",
       "    }\n",
       "\n",
       "    .dataframe tbody tr th {\n",
       "        vertical-align: top;\n",
       "    }\n",
       "\n",
       "    .dataframe thead th {\n",
       "        text-align: right;\n",
       "    }\n",
       "</style>\n",
       "<table border=\"1\" class=\"dataframe\">\n",
       "  <thead>\n",
       "    <tr style=\"text-align: right;\">\n",
       "      <th></th>\n",
       "      <th>0.438</th>\n",
       "      <th>0.498</th>\n",
       "      <th>3.625</th>\n",
       "      <th>3.645</th>\n",
       "      <th>5.000</th>\n",
       "      <th>2.918</th>\n",
       "      <th>5.000.1</th>\n",
       "      <th>2.351</th>\n",
       "      <th>2.332</th>\n",
       "      <th>2.643</th>\n",
       "      <th>1.698</th>\n",
       "      <th>1.687</th>\n",
       "      <th>1.698.1</th>\n",
       "      <th>1.717</th>\n",
       "      <th>1.744</th>\n",
       "      <th>0.593</th>\n",
       "      <th>0.502</th>\n",
       "      <th>0.493</th>\n",
       "      <th>0.504</th>\n",
       "      <th>0.445</th>\n",
       "      <th>0.431</th>\n",
       "      <th>0.444</th>\n",
       "      <th>0.440</th>\n",
       "      <th>0.429</th>\n",
       "    </tr>\n",
       "  </thead>\n",
       "  <tbody>\n",
       "    <tr>\n",
       "      <th>count</th>\n",
       "      <td>5455.000000</td>\n",
       "      <td>5455.000000</td>\n",
       "      <td>5455.000000</td>\n",
       "      <td>5455.000000</td>\n",
       "      <td>5455.000000</td>\n",
       "      <td>5455.000000</td>\n",
       "      <td>5455.000000</td>\n",
       "      <td>5455.000000</td>\n",
       "      <td>5455.000000</td>\n",
       "      <td>5455.000000</td>\n",
       "      <td>5455.000000</td>\n",
       "      <td>5455.000000</td>\n",
       "      <td>5455.000000</td>\n",
       "      <td>5455.000000</td>\n",
       "      <td>5455.000000</td>\n",
       "      <td>5455.000000</td>\n",
       "      <td>5455.000000</td>\n",
       "      <td>5455.00000</td>\n",
       "      <td>5455.000000</td>\n",
       "      <td>5455.000000</td>\n",
       "      <td>5455.000000</td>\n",
       "      <td>5455.000000</td>\n",
       "      <td>5455.000000</td>\n",
       "      <td>5455.000000</td>\n",
       "    </tr>\n",
       "    <tr>\n",
       "      <th>mean</th>\n",
       "      <td>1.471807</td>\n",
       "      <td>2.327378</td>\n",
       "      <td>2.489139</td>\n",
       "      <td>2.796346</td>\n",
       "      <td>2.958178</td>\n",
       "      <td>2.893068</td>\n",
       "      <td>3.350811</td>\n",
       "      <td>2.540431</td>\n",
       "      <td>3.125767</td>\n",
       "      <td>2.832421</td>\n",
       "      <td>2.549554</td>\n",
       "      <td>2.077848</td>\n",
       "      <td>2.125856</td>\n",
       "      <td>2.190573</td>\n",
       "      <td>2.205857</td>\n",
       "      <td>1.202223</td>\n",
       "      <td>0.989921</td>\n",
       "      <td>0.91035</td>\n",
       "      <td>1.058212</td>\n",
       "      <td>1.076436</td>\n",
       "      <td>1.016030</td>\n",
       "      <td>1.778279</td>\n",
       "      <td>1.555250</td>\n",
       "      <td>1.578719</td>\n",
       "    </tr>\n",
       "    <tr>\n",
       "      <th>std</th>\n",
       "      <td>0.802753</td>\n",
       "      <td>1.410058</td>\n",
       "      <td>1.247454</td>\n",
       "      <td>1.309438</td>\n",
       "      <td>1.339062</td>\n",
       "      <td>1.282693</td>\n",
       "      <td>1.413645</td>\n",
       "      <td>1.111653</td>\n",
       "      <td>1.357047</td>\n",
       "      <td>1.307960</td>\n",
       "      <td>1.382107</td>\n",
       "      <td>1.249404</td>\n",
       "      <td>1.407285</td>\n",
       "      <td>1.577004</td>\n",
       "      <td>1.715580</td>\n",
       "      <td>1.098638</td>\n",
       "      <td>0.942138</td>\n",
       "      <td>0.88959</td>\n",
       "      <td>1.144711</td>\n",
       "      <td>1.141570</td>\n",
       "      <td>0.887485</td>\n",
       "      <td>1.571726</td>\n",
       "      <td>1.291478</td>\n",
       "      <td>1.150480</td>\n",
       "    </tr>\n",
       "    <tr>\n",
       "      <th>min</th>\n",
       "      <td>0.400000</td>\n",
       "      <td>0.437000</td>\n",
       "      <td>0.470000</td>\n",
       "      <td>0.833000</td>\n",
       "      <td>1.120000</td>\n",
       "      <td>1.114000</td>\n",
       "      <td>1.122000</td>\n",
       "      <td>0.859000</td>\n",
       "      <td>0.836000</td>\n",
       "      <td>0.810000</td>\n",
       "      <td>0.783000</td>\n",
       "      <td>0.778000</td>\n",
       "      <td>0.770000</td>\n",
       "      <td>0.756000</td>\n",
       "      <td>0.495000</td>\n",
       "      <td>0.424000</td>\n",
       "      <td>0.373000</td>\n",
       "      <td>0.35400</td>\n",
       "      <td>0.340000</td>\n",
       "      <td>0.355000</td>\n",
       "      <td>0.380000</td>\n",
       "      <td>0.370000</td>\n",
       "      <td>0.367000</td>\n",
       "      <td>0.377000</td>\n",
       "    </tr>\n",
       "    <tr>\n",
       "      <th>25%</th>\n",
       "      <td>0.921000</td>\n",
       "      <td>1.362000</td>\n",
       "      <td>1.538500</td>\n",
       "      <td>1.731000</td>\n",
       "      <td>1.774000</td>\n",
       "      <td>1.785500</td>\n",
       "      <td>1.930500</td>\n",
       "      <td>1.618000</td>\n",
       "      <td>1.799500</td>\n",
       "      <td>1.636000</td>\n",
       "      <td>1.579000</td>\n",
       "      <td>1.293000</td>\n",
       "      <td>1.190500</td>\n",
       "      <td>1.031000</td>\n",
       "      <td>0.860000</td>\n",
       "      <td>0.690500</td>\n",
       "      <td>0.581000</td>\n",
       "      <td>0.53000</td>\n",
       "      <td>0.523500</td>\n",
       "      <td>0.542000</td>\n",
       "      <td>0.567000</td>\n",
       "      <td>0.743000</td>\n",
       "      <td>0.792000</td>\n",
       "      <td>0.884000</td>\n",
       "    </tr>\n",
       "    <tr>\n",
       "      <th>50%</th>\n",
       "      <td>1.335000</td>\n",
       "      <td>1.905000</td>\n",
       "      <td>2.064000</td>\n",
       "      <td>2.457000</td>\n",
       "      <td>2.667000</td>\n",
       "      <td>2.682000</td>\n",
       "      <td>3.225000</td>\n",
       "      <td>2.171000</td>\n",
       "      <td>2.802000</td>\n",
       "      <td>2.679000</td>\n",
       "      <td>2.000000</td>\n",
       "      <td>1.689000</td>\n",
       "      <td>1.609000</td>\n",
       "      <td>1.493000</td>\n",
       "      <td>1.328000</td>\n",
       "      <td>0.803000</td>\n",
       "      <td>0.738000</td>\n",
       "      <td>0.68500</td>\n",
       "      <td>0.691000</td>\n",
       "      <td>0.693000</td>\n",
       "      <td>0.764000</td>\n",
       "      <td>1.031000</td>\n",
       "      <td>1.071000</td>\n",
       "      <td>1.289000</td>\n",
       "    </tr>\n",
       "    <tr>\n",
       "      <th>75%</th>\n",
       "      <td>1.814000</td>\n",
       "      <td>2.683000</td>\n",
       "      <td>2.739000</td>\n",
       "      <td>4.094000</td>\n",
       "      <td>4.314000</td>\n",
       "      <td>3.835500</td>\n",
       "      <td>5.000000</td>\n",
       "      <td>3.193000</td>\n",
       "      <td>5.000000</td>\n",
       "      <td>3.526500</td>\n",
       "      <td>3.217500</td>\n",
       "      <td>2.283000</td>\n",
       "      <td>2.358500</td>\n",
       "      <td>2.739500</td>\n",
       "      <td>4.436500</td>\n",
       "      <td>1.159000</td>\n",
       "      <td>0.913000</td>\n",
       "      <td>0.83700</td>\n",
       "      <td>0.857000</td>\n",
       "      <td>0.863000</td>\n",
       "      <td>1.002500</td>\n",
       "      <td>2.068500</td>\n",
       "      <td>1.560000</td>\n",
       "      <td>1.657500</td>\n",
       "    </tr>\n",
       "    <tr>\n",
       "      <th>max</th>\n",
       "      <td>5.000000</td>\n",
       "      <td>5.025000</td>\n",
       "      <td>5.029000</td>\n",
       "      <td>5.017000</td>\n",
       "      <td>5.000000</td>\n",
       "      <td>5.005000</td>\n",
       "      <td>5.008000</td>\n",
       "      <td>5.087000</td>\n",
       "      <td>5.000000</td>\n",
       "      <td>5.022000</td>\n",
       "      <td>5.019000</td>\n",
       "      <td>5.000000</td>\n",
       "      <td>5.003000</td>\n",
       "      <td>5.000000</td>\n",
       "      <td>5.000000</td>\n",
       "      <td>5.000000</td>\n",
       "      <td>5.000000</td>\n",
       "      <td>5.00000</td>\n",
       "      <td>5.000000</td>\n",
       "      <td>5.000000</td>\n",
       "      <td>5.000000</td>\n",
       "      <td>5.000000</td>\n",
       "      <td>5.000000</td>\n",
       "      <td>5.000000</td>\n",
       "    </tr>\n",
       "  </tbody>\n",
       "</table>\n",
       "</div>"
      ],
      "text/plain": [
       "             0.438        0.498  ...        0.440        0.429\n",
       "count  5455.000000  5455.000000  ...  5455.000000  5455.000000\n",
       "mean      1.471807     2.327378  ...     1.555250     1.578719\n",
       "std       0.802753     1.410058  ...     1.291478     1.150480\n",
       "min       0.400000     0.437000  ...     0.367000     0.377000\n",
       "25%       0.921000     1.362000  ...     0.792000     0.884000\n",
       "50%       1.335000     1.905000  ...     1.071000     1.289000\n",
       "75%       1.814000     2.683000  ...     1.560000     1.657500\n",
       "max       5.000000     5.025000  ...     5.000000     5.000000\n",
       "\n",
       "[8 rows x 24 columns]"
      ]
     },
     "execution_count": 59,
     "metadata": {
      "tags": []
     },
     "output_type": "execute_result"
    }
   ],
   "source": [
    "data.describe()"
   ]
  },
  {
   "cell_type": "code",
   "execution_count": 0,
   "metadata": {
    "colab": {},
    "colab_type": "code",
    "id": "QVzyFUrWrbcp"
   },
   "outputs": [],
   "source": [
    "x = data.iloc[:,:-1]\n",
    "y = data.iloc[:,-1]"
   ]
  },
  {
   "cell_type": "code",
   "execution_count": 0,
   "metadata": {
    "colab": {},
    "colab_type": "code",
    "id": "ABTg_i8DwGb_"
   },
   "outputs": [],
   "source": [
    "x_train, x_test, y_train, y_test = train_test_split(x,y,test_size=0.3,random_state=0)"
   ]
  },
  {
   "cell_type": "code",
   "execution_count": 62,
   "metadata": {
    "colab": {
     "base_uri": "https://localhost:8080/",
     "height": 34
    },
    "colab_type": "code",
    "id": "UaiOIuaiwK62",
    "outputId": "abe66542-6bf3-4993-becf-bd563de6cab1"
   },
   "outputs": [
    {
     "data": {
      "text/plain": [
       "(3818, 24)"
      ]
     },
     "execution_count": 62,
     "metadata": {
      "tags": []
     },
     "output_type": "execute_result"
    }
   ],
   "source": [
    "x_train.shape"
   ]
  },
  {
   "cell_type": "code",
   "execution_count": 63,
   "metadata": {
    "colab": {
     "base_uri": "https://localhost:8080/",
     "height": 34
    },
    "colab_type": "code",
    "id": "bUtJbfyAwPK1",
    "outputId": "d651bddd-6d3c-49d3-b74b-852dc27fb698"
   },
   "outputs": [
    {
     "data": {
      "text/plain": [
       "(3818,)"
      ]
     },
     "execution_count": 63,
     "metadata": {
      "tags": []
     },
     "output_type": "execute_result"
    }
   ],
   "source": [
    "y_train.shape"
   ]
  },
  {
   "cell_type": "code",
   "execution_count": 64,
   "metadata": {
    "colab": {
     "base_uri": "https://localhost:8080/",
     "height": 34
    },
    "colab_type": "code",
    "id": "-1F4IVNF9901",
    "outputId": "93463d0d-a2d3-43de-8f74-e247ffd4b10f"
   },
   "outputs": [
    {
     "data": {
      "text/plain": [
       "{'Move-Forward', 'Sharp-Right-Turn', 'Slight-Left-Turn', 'Slight-Right-Turn'}"
      ]
     },
     "execution_count": 64,
     "metadata": {
      "tags": []
     },
     "output_type": "execute_result"
    }
   ],
   "source": [
    "set(y_train)"
   ]
  },
  {
   "cell_type": "code",
   "execution_count": 65,
   "metadata": {
    "colab": {
     "base_uri": "https://localhost:8080/",
     "height": 34
    },
    "colab_type": "code",
    "id": "AbTt90s5_7Lb",
    "outputId": "e8477a5b-4fac-4f11-a824-e523d95803c8"
   },
   "outputs": [
    {
     "data": {
      "text/plain": [
       "array([0, 0, 1, ..., 2, 0, 0])"
      ]
     },
     "execution_count": 65,
     "metadata": {
      "tags": []
     },
     "output_type": "execute_result"
    }
   ],
   "source": [
    "from sklearn.preprocessing import LabelEncoder\n",
    "le = LabelEncoder()\n",
    "y_train = le.fit_transform(y_train)\n",
    "y_train\n",
    "y_test = le.fit_transform(y_test)\n",
    "y_test"
   ]
  },
  {
   "cell_type": "code",
   "execution_count": 66,
   "metadata": {
    "colab": {
     "base_uri": "https://localhost:8080/",
     "height": 34
    },
    "colab_type": "code",
    "id": "16Yg8CNMGKOI",
    "outputId": "97c6c63e-82a9-47f6-9c99-59e9c7ecfa4b"
   },
   "outputs": [
    {
     "data": {
      "text/plain": [
       "{0, 1, 2, 3}"
      ]
     },
     "execution_count": 66,
     "metadata": {
      "tags": []
     },
     "output_type": "execute_result"
    }
   ],
   "source": [
    "set(y_train)"
   ]
  },
  {
   "cell_type": "code",
   "execution_count": 0,
   "metadata": {
    "colab": {},
    "colab_type": "code",
    "id": "BloRAcXEB7TP"
   },
   "outputs": [],
   "source": [
    "from keras.utils import np_utils\n",
    "y_train = np_utils.to_categorical(y_train,4)\n",
    "y_test = np_utils.to_categorical(y_test,4)"
   ]
  },
  {
   "cell_type": "code",
   "execution_count": 97,
   "metadata": {
    "colab": {
     "base_uri": "https://localhost:8080/",
     "height": 34
    },
    "colab_type": "code",
    "id": "xkcztbtcI0-t",
    "outputId": "f529b030-9f07-445e-c114-15ac30018289"
   },
   "outputs": [
    {
     "data": {
      "text/plain": [
       "(3818, 4)"
      ]
     },
     "execution_count": 97,
     "metadata": {
      "tags": []
     },
     "output_type": "execute_result"
    }
   ],
   "source": [
    "y_train.shape"
   ]
  },
  {
   "cell_type": "code",
   "execution_count": 0,
   "metadata": {
    "colab": {},
    "colab_type": "code",
    "id": "jZnhMXztwTgI"
   },
   "outputs": [],
   "source": [
    "model = Sequential()"
   ]
  },
  {
   "cell_type": "code",
   "execution_count": 0,
   "metadata": {
    "colab": {},
    "colab_type": "code",
    "id": "ftnso0mAwZDL"
   },
   "outputs": [],
   "source": [
    "model.add(Dense(32,input_dim=24))\n",
    "model.add(Dense(64,activation='relu'))\n",
    "model.add(Dropout(0.1))\n",
    "model.add(Dense(128,activation='relu'))\n",
    "model.add(Dropout(0.1))\n",
    "model.add(Dense(4,activation='softmax'))"
   ]
  },
  {
   "cell_type": "code",
   "execution_count": 0,
   "metadata": {
    "colab": {},
    "colab_type": "code",
    "id": "p55BTZcswkeq"
   },
   "outputs": [],
   "source": [
    "model.compile(loss='categorical_crossentropy',optimizer='adam',metrics=['accuracy'])"
   ]
  },
  {
   "cell_type": "code",
   "execution_count": 95,
   "metadata": {
    "colab": {
     "base_uri": "https://localhost:8080/",
     "height": 374
    },
    "colab_type": "code",
    "id": "A8HX_pOTAfXN",
    "outputId": "59c9daee-afe6-4abe-94a7-42010db5ca72"
   },
   "outputs": [
    {
     "name": "stdout",
     "output_type": "stream",
     "text": [
      "Epoch 1/10\n",
      "20/20 [==============================] - 0s 2ms/step - loss: 1.1843 - accuracy: 0.4641\n",
      "Epoch 2/10\n",
      "20/20 [==============================] - 0s 2ms/step - loss: 0.9211 - accuracy: 0.5938\n",
      "Epoch 3/10\n",
      "20/20 [==============================] - 0s 3ms/step - loss: 0.8091 - accuracy: 0.6551\n",
      "Epoch 4/10\n",
      "20/20 [==============================] - 0s 2ms/step - loss: 0.7402 - accuracy: 0.6773\n",
      "Epoch 5/10\n",
      "20/20 [==============================] - 0s 2ms/step - loss: 0.6932 - accuracy: 0.7080\n",
      "Epoch 6/10\n",
      "20/20 [==============================] - 0s 2ms/step - loss: 0.6471 - accuracy: 0.7258\n",
      "Epoch 7/10\n",
      "20/20 [==============================] - 0s 2ms/step - loss: 0.6187 - accuracy: 0.7412\n",
      "Epoch 8/10\n",
      "20/20 [==============================] - 0s 2ms/step - loss: 0.5913 - accuracy: 0.7583\n",
      "Epoch 9/10\n",
      "20/20 [==============================] - 0s 2ms/step - loss: 0.5742 - accuracy: 0.7682\n",
      "Epoch 10/10\n",
      "20/20 [==============================] - 0s 2ms/step - loss: 0.5404 - accuracy: 0.7863\n"
     ]
    },
    {
     "data": {
      "text/plain": [
       "<tensorflow.python.keras.callbacks.History at 0x7f47045730b8>"
      ]
     },
     "execution_count": 95,
     "metadata": {
      "tags": []
     },
     "output_type": "execute_result"
    }
   ],
   "source": [
    "model.fit(x_train,y_train,epochs=10,batch_size=200)"
   ]
  },
  {
   "cell_type": "code",
   "execution_count": 96,
   "metadata": {
    "colab": {
     "base_uri": "https://localhost:8080/",
     "height": 51
    },
    "colab_type": "code",
    "id": "gmhOo2yjF_Su",
    "outputId": "3c91567f-ce74-469b-e90b-ea394f4af3ac"
   },
   "outputs": [
    {
     "name": "stdout",
     "output_type": "stream",
     "text": [
      "52/52 [==============================] - 0s 2ms/step - loss: 0.4792 - accuracy: 0.8253\n"
     ]
    },
    {
     "data": {
      "text/plain": [
       "[0.4791533052921295, 0.8252901434898376]"
      ]
     },
     "execution_count": 96,
     "metadata": {
      "tags": []
     },
     "output_type": "execute_result"
    }
   ],
   "source": [
    "model.evaluate(x_test,y_test)"
   ]
  },
  {
   "cell_type": "code",
   "execution_count": 0,
   "metadata": {
    "colab": {},
    "colab_type": "code",
    "id": "5GwMqYSAYXVm"
   },
   "outputs": [],
   "source": []
  }
 ],
 "metadata": {
  "accelerator": "GPU",
  "colab": {
   "collapsed_sections": [],
   "name": "sensor ",
   "provenance": []
  },
  "kernelspec": {
   "display_name": "Python 3",
   "language": "python",
   "name": "python3"
  },
  "language_info": {
   "codemirror_mode": {
    "name": "ipython",
    "version": 3
   },
   "file_extension": ".py",
   "mimetype": "text/x-python",
   "name": "python",
   "nbconvert_exporter": "python",
   "pygments_lexer": "ipython3",
   "version": "3.7.4"
  }
 },
 "nbformat": 4,
 "nbformat_minor": 1
}
